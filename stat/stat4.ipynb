{
 "cells": [
  {
   "cell_type": "heading",
   "metadata": {
    "collapsed": true
   },
   "level": 1,
   "source": [
    "5"
   ]
  },
  {
   "cell_type": "code",
   "execution_count": null,
   "metadata": {},
   "outputs": [],
   "source": [
    "import numpy as np\n",
    "import matplotlib.pyplot as plt\n",
    "import pandas as pd\n",
    "from IPython.display import Markdown\n",
    "%matplotlib inline"
   ]
  },
  {
   "cell_type": "heading",
   "metadata": {},
   "level": 1,
   "source": [
    "(a)"
   ]
  },
  {
   "cell_type": "code",
   "execution_count": 17,
   "metadata": {},
   "outputs": [],
   "source": [
    "result_a = []\n",
    "for i in range(500):\n",
    "    result_a.append(np.random.standard_t(100, 10000))"
   ]
  },
  {
   "cell_type": "heading",
   "metadata": {},
   "level": 1,
   "source": [
    "(b)"
   ]
  },
  {
   "cell_type": "code",
   "execution_count": 18,
   "metadata": {},
   "outputs": [],
   "source": [
    "mean_5 = list(map(lambda x: np.mean(x[:5]), result_a))\n",
    "mean_10 = list(map(lambda x: np.mean(x[:10]), result_a))\n",
    "mean_100 = list(map(lambda x: np.mean(x[:100]), result_a))\n",
    "mean_500 = list(map(lambda x: np.mean(x[:500]), result_a))\n",
    "mean_1000 = list(map(lambda x: np.mean(x[:1000]), result_a))\n",
    "mean_10000 = list(map(lambda x: np.mean(x[:10000]), result_a))"
   ]
  },
  {
   "cell_type": "heading",
   "metadata": {},
   "level": 1,
   "source": [
    "(c)"
   ]
  },
  {
   "cell_type": "code",
   "execution_count": 36,
   "metadata": {},
   "outputs": [],
   "source": [
    "def sample_mean_statistics(mean_list):\n",
    "    mean = np.mean(mean_list)\n",
    "    std = np.std(mean_list)\n",
    "    var = np.var(mean_list)\n",
    "    return {'mean': mean, 'std': std, 'var': var}\n",
    "\n",
    "\n",
    "all_means = list([mean_5, mean_10, mean_100, mean_500, mean_1000, mean_10000])\n",
    "dict_list = list(map(sample_mean_statistics, all_means))\n",
    "table_c = pd.DataFrame(dict_list)\n",
    "table_c.index = [5, 10, 100, 500, 1000, 10000]"
   ]
  },
  {
   "cell_type": "code",
   "execution_count": 37,
   "metadata": {},
   "outputs": [
    {
     "data": {
      "text/html": [
       "<div>\n",
       "<style scoped>\n",
       "    .dataframe tbody tr th:only-of-type {\n",
       "        vertical-align: middle;\n",
       "    }\n",
       "\n",
       "    .dataframe tbody tr th {\n",
       "        vertical-align: top;\n",
       "    }\n",
       "\n",
       "    .dataframe thead th {\n",
       "        text-align: right;\n",
       "    }\n",
       "</style>\n",
       "<table border=\"1\" class=\"dataframe\">\n",
       "  <thead>\n",
       "    <tr style=\"text-align: right;\">\n",
       "      <th></th>\n",
       "      <th>mean</th>\n",
       "      <th>std</th>\n",
       "      <th>var</th>\n",
       "    </tr>\n",
       "  </thead>\n",
       "  <tbody>\n",
       "    <tr>\n",
       "      <th>5</th>\n",
       "      <td>0.035750</td>\n",
       "      <td>0.489523</td>\n",
       "      <td>0.239633</td>\n",
       "    </tr>\n",
       "    <tr>\n",
       "      <th>10</th>\n",
       "      <td>0.023465</td>\n",
       "      <td>0.342629</td>\n",
       "      <td>0.117395</td>\n",
       "    </tr>\n",
       "    <tr>\n",
       "      <th>100</th>\n",
       "      <td>0.003507</td>\n",
       "      <td>0.103449</td>\n",
       "      <td>0.010702</td>\n",
       "    </tr>\n",
       "    <tr>\n",
       "      <th>500</th>\n",
       "      <td>0.000469</td>\n",
       "      <td>0.046467</td>\n",
       "      <td>0.002159</td>\n",
       "    </tr>\n",
       "    <tr>\n",
       "      <th>1000</th>\n",
       "      <td>-0.000963</td>\n",
       "      <td>0.030042</td>\n",
       "      <td>0.000902</td>\n",
       "    </tr>\n",
       "    <tr>\n",
       "      <th>10000</th>\n",
       "      <td>0.000130</td>\n",
       "      <td>0.009236</td>\n",
       "      <td>0.000085</td>\n",
       "    </tr>\n",
       "  </tbody>\n",
       "</table>\n",
       "</div>"
      ],
      "text/plain": [
       "<div>\n",
       "<style scoped>\n",
       "    .dataframe tbody tr th:only-of-type {\n",
       "        vertical-align: middle;\n",
       "    }\n",
       "\n",
       "    .dataframe tbody tr th {\n",
       "        vertical-align: top;\n",
       "    }\n",
       "\n",
       "    .dataframe thead th {\n",
       "        text-align: right;\n",
       "    }\n",
       "</style>\n",
       "<table border=\"1\" class=\"dataframe\">\n",
       "  <thead>\n",
       "    <tr style=\"text-align: right;\">\n",
       "      <th></th>\n",
       "      <th>mean</th>\n",
       "      <th>std</th>\n",
       "      <th>var</th>\n",
       "    </tr>\n",
       "  </thead>\n",
       "  <tbody>\n",
       "    <tr>\n",
       "      <th>5</th>\n",
       "      <td>0.035750</td>\n",
       "      <td>0.489523</td>\n",
       "      <td>0.239633</td>\n",
       "    </tr>\n",
       "    <tr>\n",
       "      <th>10</th>\n",
       "      <td>0.023465</td>\n",
       "      <td>0.342629</td>\n",
       "      <td>0.117395</td>\n",
       "    </tr>\n",
       "    <tr>\n",
       "      <th>100</th>\n",
       "      <td>0.003507</td>\n",
       "      <td>0.103449</td>\n",
       "      <td>0.010702</td>\n",
       "    </tr>\n",
       "    <tr>\n",
       "      <th>500</th>\n",
       "      <td>0.000469</td>\n",
       "      <td>0.046467</td>\n",
       "      <td>0.002159</td>\n",
       "    </tr>\n",
       "    <tr>\n",
       "      <th>1000</th>\n",
       "      <td>-0.000963</td>\n",
       "      <td>0.030042</td>\n",
       "      <td>0.000902</td>\n",
       "    </tr>\n",
       "    <tr>\n",
       "      <th>10000</th>\n",
       "      <td>0.000130</td>\n",
       "      <td>0.009236</td>\n",
       "      <td>0.000085</td>\n",
       "    </tr>\n",
       "  </tbody>\n",
       "</table>\n",
       "</div>"
      ]
     },
     "execution_count": 37,
     "metadata": {},
     "output_type": "execute_result"
    }
   ],
   "source": [
    "table_c"
   ]
  },
  {
   "cell_type": "heading",
   "metadata": {},
   "level": 1,
   "source": [
    "(d)"
   ]
  },
  {
   "cell_type": "code",
   "execution_count": 45,
   "metadata": {},
   "outputs": [
    {
     "data": {
      "text/plain": [
       "<matplotlib.legend.Legend at 0x1af86be0>"
      ]
     },
     "execution_count": 45,
     "metadata": {},
     "output_type": "execute_result"
    },
    {
     "data": {
      "image/png": "[encoded data removed]",
      "text/plain": [
       "<Figure size 432x288 with 1 Axes>"
      ]
     },
     "metadata": {},
     "output_type": "display_data"
    }
   ],
   "source": [
    "plt.hist(mean_5, label='5')\n",
    "plt.hist(mean_10, label='10')\n",
    "plt.hist(mean_100, label='100')\n",
    "plt.hist(mean_1000, label='1000')\n",
    "plt.hist(mean_10000, label='10000')\n",
    "plt.legend(loc='upper right')\n"
   ]
  },
  {
   "cell_type": "heading",
   "metadata": {},
   "level": 1,
   "source": [
    "(e)"
   ]
  },
  {
   "cell_type": "markdown",
   "metadata": {},
   "source": [
    "LLN: As n increase from 5 to 10000, the sample means become virtually exactly 0, which is the expection of standard-t distribution.\n",
    "\n",
    "CLT: As n increase from 5 to 10000, the variances of sample mean become smaller."
   ]
  },
  {
   "cell_type": "heading",
   "metadata": {},
   "level": 1,
   "source": [
    "(f)"
   ]
  },
  {
   "cell_type": "code",
   "execution_count": 46,
   "metadata": {},
   "outputs": [],
   "source": [
    "def test_tv(v=100):\n",
    "    result_a = []\n",
    "    for i in range(500):\n",
    "        result_a.append(np.random.standard_t(v, 10000))\n",
    "    mean_5 = list(map(lambda x: np.mean(x[:5]), result_a))\n",
    "    mean_10 = list(map(lambda x: np.mean(x[:10]), result_a))\n",
    "    mean_100 = list(map(lambda x: np.mean(x[:100]), result_a))\n",
    "    mean_500 = list(map(lambda x: np.mean(x[:500]), result_a))\n",
    "    mean_1000 = list(map(lambda x: np.mean(x[:1000]), result_a))\n",
    "    mean_10000 = list(map(lambda x: np.mean(x[:10000]), result_a))\n",
    "    all_means = list([mean_5, mean_10, mean_100, mean_500, mean_1000, mean_10000])\n",
    "    dict_list = list(map(sample_mean_statistics, all_means))\n",
    "    table_c = pd.DataFrame(dict_list)\n",
    "    table_c.index = [5, 10, 100, 500, 1000, 10000]\n",
    "    print(table_c)\n",
    "    plt.hist(mean_5, label='5')\n",
    "    plt.hist(mean_10, label='10')\n",
    "    plt.hist(mean_100, label='100')\n",
    "    plt.hist(mean_1000, label='1000')\n",
    "    plt.hist(mean_10000, label='10000')\n",
    "    plt.legend(loc='upper right')\n",
    "    plt.title('v = ' + str(v))\n",
    "    plt.show()"
   ]
  },
  {
   "cell_type": "code",
   "execution_count": 47,
   "metadata": {},
   "outputs": [
    {
     "name": "stdout",
     "output_type": "stream",
     "text": [
      "           mean       std       var\n5     -0.005261  0.517679  0.267992\n10    -0.007897  0.347946  0.121067\n100   -0.001139  0.110980  0.012317\n500    0.000557  0.050894  0.002590\n1000   0.000375  0.036805  0.001355\n10000  0.000368  0.011369  0.000129\n"
     ]
    },
    {
     "data": {
      "image/png": "[encoded data removed]",
      "text/plain": [
       "<Figure size 432x288 with 1 Axes>"
      ]
     },
     "metadata": {},
     "output_type": "display_data"
    }
   ],
   "source": [
    "test_tv(10)"
   ]
  },
  {
   "cell_type": "code",
   "execution_count": 48,
   "metadata": {},
   "outputs": [
    {
     "name": "stdout",
     "output_type": "stream",
     "text": [
      "           mean       std       var\n5     -0.031683  0.566745  0.321200\n10    -0.026306  0.408055  0.166509\n100    0.000986  0.129549  0.016783\n500    0.000510  0.059224  0.003507\n1000   0.001523  0.038697  0.001497\n10000  0.000683  0.012986  0.000169\n"
     ]
    },
    {
     "data": {
      "image/png": "[encoded data removed]",
      "text/plain": [
       "<Figure size 432x288 with 1 Axes>"
      ]
     },
     "metadata": {},
     "output_type": "display_data"
    }
   ],
   "source": [
    "test_tv(5)"
   ]
  },
  {
   "cell_type": "code",
   "execution_count": 49,
   "metadata": {},
   "outputs": [
    {
     "name": "stdout",
     "output_type": "stream",
     "text": [
      "           mean       std       var\n5     -0.039023  1.018464  1.037270\n10    -0.033137  0.823697  0.678476\n100   -0.011922  0.291592  0.085026\n500    0.000727  0.135740  0.018425\n1000   0.002715  0.138544  0.019194\n10000  0.001092  0.040680  0.001655\n"
     ]
    },
    {
     "data": {
      "image/png": "[encoded data removed]",
      "text/plain": [
       "<Figure size 432x288 with 1 Axes>"
      ]
     },
     "metadata": {},
     "output_type": "display_data"
    }
   ],
   "source": [
    "test_tv(2)"
   ]
  },
  {
   "cell_type": "code",
   "execution_count": 50,
   "metadata": {},
   "outputs": [
    {
     "name": "stdout",
     "output_type": "stream",
     "text": [
      "           mean        std          var\n5      0.686135  13.544204   183.445472\n10    -0.476787  12.553368   157.587054\n100   -3.692123  92.319698  8522.926563\n500    0.019286  29.909090   894.553659\n1000  -0.183120  17.038627   290.314798\n10000 -0.618772  12.889491   166.138980\n"
     ]
    },
    {
     "data": {
      "image/png": "[encoded data removed]",
      "text/plain": [
       "<Figure size 432x288 with 1 Axes>"
      ]
     },
     "metadata": {},
     "output_type": "display_data"
    }
   ],
   "source": [
    "test_tv(1)"
   ]
  },
  {
   "cell_type": "code",
   "execution_count": 52,
   "metadata": {},
   "outputs": [
    {
     "name": "stdout",
     "output_type": "stream",
     "text": [
      "               mean           std           var\n5     -1.938502e+03  3.117078e+04  9.716178e+08\n10    -6.569040e+02  1.923344e+04  3.699251e+08\n100    6.810886e+05  1.576575e+07  2.485588e+14\n500   -2.109035e+05  8.033049e+06  6.452988e+13\n1000  -4.792280e+04  4.124720e+06  1.701332e+13\n10000  2.953798e+06  1.421310e+08  2.020121e+16\n"
     ]
    },
    {
     "data": {
      "image/png": "[encoded data removed]",
      "text/plain": [
       "<Figure size 432x288 with 1 Axes>"
      ]
     },
     "metadata": {},
     "output_type": "display_data"
    }
   ],
   "source": [
    "test_tv(0.5)"
   ]
  },
  {
   "cell_type": "heading",
   "metadata": {},
   "level": 1,
   "source": [
    "(g)"
   ]
  },
  {
   "cell_type": "markdown",
   "metadata": {},
   "source": [
    "As v gets larger, the sample means converge faster with sample size. "
   ]
  },
  {
   "cell_type": "heading",
   "metadata": {},
   "level": 1,
   "source": [
    "6"
   ]
  },
  {
   "cell_type": "heading",
   "metadata": {},
   "level": 1,
   "source": [
    "(a)"
   ]
  },
  {
   "cell_type": "code",
   "execution_count": null,
   "metadata": {},
   "outputs": [],
   "source": [
    "p = np.array([[0.75, 0.25], [0.6, 0.4]])\n",
    "\n",
    "def simulate_path(mat, step):\n",
    "    path = []\n",
    "    initial_state = np.random.randint(mat.shape[1])\n",
    "    path.append(initial_state)\n",
    "    for i in range(step):\n",
    "        initial_state = np.random.choice(np.arange(mat.shape[1]), p=mat[initial_state])\n",
    "        path.append(initial_state)\n",
    "    return path"
   ]
  },
  {
   "cell_type": "code",
   "execution_count": 81,
   "metadata": {},
   "outputs": [
    {
     "data": {
      "text/plain": [
       "[<matplotlib.lines.Line2D at 0x1c7bd390>]"
      ]
     },
     "execution_count": 81,
     "metadata": {},
     "output_type": "execute_result"
    },
    {
     "data": {
      "image/png": "[encoded data removed]",
      "text/plain": [
       "<Figure size 432x288 with 1 Axes>"
      ]
     },
     "metadata": {},
     "output_type": "display_data"
    }
   ],
   "source": [
    "path_a = simulate_path(p, 1000)\n",
    "plt.plot(list(np.arange(100)), path_a[:100])"
   ]
  },
  {
   "cell_type": "heading",
   "metadata": {},
   "level": 1,
   "source": [
    "(b)"
   ]
  },
  {
   "cell_type": "code",
   "execution_count": 93,
   "metadata": {},
   "outputs": [
    {
     "data": {
      "text/plain": [
       "(array([0.70829171, 0.        , 0.        , 0.        , 0.        ,\n        0.        , 0.        , 0.        , 0.        , 0.29170829]),\n array([0. , 0.1, 0.2, 0.3, 0.4, 0.5, 0.6, 0.7, 0.8, 0.9, 1. ]),\n <a list of 10 Patch objects>)"
      ]
     },
     "execution_count": 93,
     "metadata": {},
     "output_type": "execute_result"
    },
    {
     "data": {
      "image/png": "[encoded data removed]",
      "text/plain": [
       "<Figure size 432x288 with 1 Axes>"
      ]
     },
     "metadata": {},
     "output_type": "display_data"
    }
   ],
   "source": [
    "weights = np.ones_like(path_a)/float(len(path_a))\n",
    "plt.hist(path_a, weights=weights)\n",
    "# plt.hist(path_a, density=True)"
   ]
  },
  {
   "cell_type": "heading",
   "metadata": {},
   "level": 1,
   "source": [
    "(c)"
   ]
  },
  {
   "cell_type": "code",
   "execution_count": 99,
   "metadata": {},
   "outputs": [
    {
     "data": {
      "text/markdown": [
       "\n    Therefore, the stationary distribution is [0.70588235 0.29411765]\n "
      ],
      "text/plain": [
       "<IPython.core.display.Markdown object>"
      ]
     },
     "metadata": {},
     "output_type": "display_data"
    }
   ],
   "source": [
    "G = p - np.identity(2)\n",
    "G[:, 1] = np.array([1, 1])\n",
    "stationary = np.linalg.inv(G)[1, :]\n",
    "Markdown(\n",
    "    \"\"\"\n",
    "    Therefore, the stationary distribution is {one}\n",
    " \"\"\".format(one=stationary)\n",
    ")"
   ]
  }
 ],
 "metadata": {
  "kernelspec": {
   "display_name": "Python 2",
   "language": "python",
   "name": "python2"
  },
  "language_info": {
   "codemirror_mode": {
    "name": "ipython",
    "version": 2
   },
   "file_extension": ".py",
   "mimetype": "text/x-python",
   "name": "python",
   "nbconvert_exporter": "python",
   "pygments_lexer": "ipython2",
   "version": "2.7.6"
  }
 },
 "nbformat": 4,
 "nbformat_minor": 0
}
